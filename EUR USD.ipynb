{
 "cells": [
  {
   "cell_type": "code",
   "execution_count": 124,
   "metadata": {},
   "outputs": [],
   "source": [
    "from datetime import date\n",
    "from datetime import timedelta\n",
    "\n",
    "import numpy as np\n",
    "import pandas as pd\n",
    "import matplotlib.pyplot as plt\n",
    "\n",
    "from pandas_datareader import data as pdr\n",
    "import yfinance as yf\n",
    "\n",
    "import plotly.graph_objs as go "
   ]
  },
  {
   "cell_type": "code",
   "execution_count": 115,
   "metadata": {},
   "outputs": [],
   "source": [
    "forex = \"EURUSD=X\""
   ]
  },
  {
   "cell_type": "code",
   "execution_count": 116,
   "metadata": {},
   "outputs": [],
   "source": [
    "# set the start and end date for the historical data\n",
    "start_date = '2004-01-01'\n",
    "end_date = date.today().strftime(\"%Y-%m-%d\")"
   ]
  },
  {
   "cell_type": "code",
   "execution_count": 117,
   "metadata": {},
   "outputs": [],
   "source": [
    "yf.pdr_override() # <== that's all it takes :-)"
   ]
  },
  {
   "cell_type": "code",
   "execution_count": 118,
   "metadata": {},
   "outputs": [
    {
     "name": "stdout",
     "output_type": "stream",
     "text": [
      "[*********************100%***********************]  1 of 1 completed\n"
     ]
    },
    {
     "data": {
      "text/html": [
       "<div>\n",
       "<style scoped>\n",
       "    .dataframe tbody tr th:only-of-type {\n",
       "        vertical-align: middle;\n",
       "    }\n",
       "\n",
       "    .dataframe tbody tr th {\n",
       "        vertical-align: top;\n",
       "    }\n",
       "\n",
       "    .dataframe thead th {\n",
       "        text-align: right;\n",
       "    }\n",
       "</style>\n",
       "<table border=\"1\" class=\"dataframe\">\n",
       "  <thead>\n",
       "    <tr style=\"text-align: right;\">\n",
       "      <th></th>\n",
       "      <th>Open</th>\n",
       "      <th>High</th>\n",
       "      <th>Low</th>\n",
       "      <th>Close</th>\n",
       "      <th>Adj Close</th>\n",
       "      <th>Volume</th>\n",
       "    </tr>\n",
       "    <tr>\n",
       "      <th>Date</th>\n",
       "      <th></th>\n",
       "      <th></th>\n",
       "      <th></th>\n",
       "      <th></th>\n",
       "      <th></th>\n",
       "      <th></th>\n",
       "    </tr>\n",
       "  </thead>\n",
       "  <tbody>\n",
       "    <tr>\n",
       "      <th>2004-01-01</th>\n",
       "      <td>1.259002</td>\n",
       "      <td>1.260796</td>\n",
       "      <td>1.247396</td>\n",
       "      <td>1.258194</td>\n",
       "      <td>1.258194</td>\n",
       "      <td>0</td>\n",
       "    </tr>\n",
       "    <tr>\n",
       "      <th>2004-01-02</th>\n",
       "      <td>1.258194</td>\n",
       "      <td>1.262802</td>\n",
       "      <td>1.252693</td>\n",
       "      <td>1.258194</td>\n",
       "      <td>1.258194</td>\n",
       "      <td>0</td>\n",
       "    </tr>\n",
       "    <tr>\n",
       "      <th>2004-01-05</th>\n",
       "      <td>1.263903</td>\n",
       "      <td>1.269406</td>\n",
       "      <td>1.263695</td>\n",
       "      <td>1.268698</td>\n",
       "      <td>1.268698</td>\n",
       "      <td>0</td>\n",
       "    </tr>\n",
       "    <tr>\n",
       "      <th>2004-01-06</th>\n",
       "      <td>1.268907</td>\n",
       "      <td>1.280803</td>\n",
       "      <td>1.267202</td>\n",
       "      <td>1.272103</td>\n",
       "      <td>1.272103</td>\n",
       "      <td>0</td>\n",
       "    </tr>\n",
       "    <tr>\n",
       "      <th>2004-01-07</th>\n",
       "      <td>1.272394</td>\n",
       "      <td>1.273999</td>\n",
       "      <td>1.262499</td>\n",
       "      <td>1.264095</td>\n",
       "      <td>1.264095</td>\n",
       "      <td>0</td>\n",
       "    </tr>\n",
       "  </tbody>\n",
       "</table>\n",
       "</div>"
      ],
      "text/plain": [
       "                Open      High       Low     Close  Adj Close  Volume\n",
       "Date                                                                 \n",
       "2004-01-01  1.259002  1.260796  1.247396  1.258194   1.258194       0\n",
       "2004-01-02  1.258194  1.262802  1.252693  1.258194   1.258194       0\n",
       "2004-01-05  1.263903  1.269406  1.263695  1.268698   1.268698       0\n",
       "2004-01-06  1.268907  1.280803  1.267202  1.272103   1.272103       0\n",
       "2004-01-07  1.272394  1.273999  1.262499  1.264095   1.264095       0"
      ]
     },
     "execution_count": 118,
     "metadata": {},
     "output_type": "execute_result"
    }
   ],
   "source": [
    "# download dataframe\n",
    "data = pdr.get_data_yahoo(forex, start=start_date, end=end_date, interval='1d')\n",
    "data.head()"
   ]
  },
  {
   "cell_type": "code",
   "execution_count": 119,
   "metadata": {},
   "outputs": [],
   "source": [
    "# save the data to a CSV file\n",
    "path = \"data/\" + forex + \".csv\"\n",
    "data.to_csv(path, index=True)"
   ]
  },
  {
   "cell_type": "code",
   "execution_count": 120,
   "metadata": {},
   "outputs": [],
   "source": [
    "df = pd.read_csv(path)"
   ]
  },
  {
   "cell_type": "code",
   "execution_count": 121,
   "metadata": {},
   "outputs": [
    {
     "data": {
      "text/html": [
       "<div>\n",
       "<style scoped>\n",
       "    .dataframe tbody tr th:only-of-type {\n",
       "        vertical-align: middle;\n",
       "    }\n",
       "\n",
       "    .dataframe tbody tr th {\n",
       "        vertical-align: top;\n",
       "    }\n",
       "\n",
       "    .dataframe thead th {\n",
       "        text-align: right;\n",
       "    }\n",
       "</style>\n",
       "<table border=\"1\" class=\"dataframe\">\n",
       "  <thead>\n",
       "    <tr style=\"text-align: right;\">\n",
       "      <th></th>\n",
       "      <th>Date</th>\n",
       "      <th>Open</th>\n",
       "      <th>High</th>\n",
       "      <th>Low</th>\n",
       "      <th>Close</th>\n",
       "      <th>Adj Close</th>\n",
       "      <th>Volume</th>\n",
       "    </tr>\n",
       "  </thead>\n",
       "  <tbody>\n",
       "    <tr>\n",
       "      <th>5004</th>\n",
       "      <td>2023-04-18</td>\n",
       "      <td>1.092538</td>\n",
       "      <td>1.098346</td>\n",
       "      <td>1.092275</td>\n",
       "      <td>1.092538</td>\n",
       "      <td>1.092538</td>\n",
       "      <td>0</td>\n",
       "    </tr>\n",
       "    <tr>\n",
       "      <th>5005</th>\n",
       "      <td>2023-04-19</td>\n",
       "      <td>1.097538</td>\n",
       "      <td>1.098660</td>\n",
       "      <td>1.091834</td>\n",
       "      <td>1.097538</td>\n",
       "      <td>1.097538</td>\n",
       "      <td>0</td>\n",
       "    </tr>\n",
       "    <tr>\n",
       "      <th>5006</th>\n",
       "      <td>2023-04-20</td>\n",
       "      <td>1.095218</td>\n",
       "      <td>1.098901</td>\n",
       "      <td>1.093434</td>\n",
       "      <td>1.095218</td>\n",
       "      <td>1.095218</td>\n",
       "      <td>0</td>\n",
       "    </tr>\n",
       "    <tr>\n",
       "      <th>5007</th>\n",
       "      <td>2023-04-21</td>\n",
       "      <td>1.097093</td>\n",
       "      <td>1.099251</td>\n",
       "      <td>1.093972</td>\n",
       "      <td>1.097093</td>\n",
       "      <td>1.097093</td>\n",
       "      <td>0</td>\n",
       "    </tr>\n",
       "    <tr>\n",
       "      <th>5008</th>\n",
       "      <td>2023-04-24</td>\n",
       "      <td>1.099227</td>\n",
       "      <td>1.103424</td>\n",
       "      <td>1.096876</td>\n",
       "      <td>1.099227</td>\n",
       "      <td>1.099227</td>\n",
       "      <td>0</td>\n",
       "    </tr>\n",
       "  </tbody>\n",
       "</table>\n",
       "</div>"
      ],
      "text/plain": [
       "            Date      Open      High       Low     Close  Adj Close  Volume\n",
       "5004  2023-04-18  1.092538  1.098346  1.092275  1.092538   1.092538       0\n",
       "5005  2023-04-19  1.097538  1.098660  1.091834  1.097538   1.097538       0\n",
       "5006  2023-04-20  1.095218  1.098901  1.093434  1.095218   1.095218       0\n",
       "5007  2023-04-21  1.097093  1.099251  1.093972  1.097093   1.097093       0\n",
       "5008  2023-04-24  1.099227  1.103424  1.096876  1.099227   1.099227       0"
      ]
     },
     "execution_count": 121,
     "metadata": {},
     "output_type": "execute_result"
    }
   ],
   "source": [
    "df.tail()"
   ]
  },
  {
   "cell_type": "code",
   "execution_count": 122,
   "metadata": {},
   "outputs": [
    {
     "data": {
      "text/html": [
       "<div>\n",
       "<style scoped>\n",
       "    .dataframe tbody tr th:only-of-type {\n",
       "        vertical-align: middle;\n",
       "    }\n",
       "\n",
       "    .dataframe tbody tr th {\n",
       "        vertical-align: top;\n",
       "    }\n",
       "\n",
       "    .dataframe thead th {\n",
       "        text-align: right;\n",
       "    }\n",
       "</style>\n",
       "<table border=\"1\" class=\"dataframe\">\n",
       "  <thead>\n",
       "    <tr style=\"text-align: right;\">\n",
       "      <th></th>\n",
       "      <th>Open</th>\n",
       "      <th>High</th>\n",
       "      <th>Low</th>\n",
       "      <th>Close</th>\n",
       "      <th>Adj Close</th>\n",
       "      <th>Volume</th>\n",
       "    </tr>\n",
       "  </thead>\n",
       "  <tbody>\n",
       "    <tr>\n",
       "      <th>count</th>\n",
       "      <td>5009.000000</td>\n",
       "      <td>5009.000000</td>\n",
       "      <td>5009.000000</td>\n",
       "      <td>5009.000000</td>\n",
       "      <td>5009.000000</td>\n",
       "      <td>5009.0</td>\n",
       "    </tr>\n",
       "    <tr>\n",
       "      <th>mean</th>\n",
       "      <td>1.242227</td>\n",
       "      <td>1.246886</td>\n",
       "      <td>1.237118</td>\n",
       "      <td>1.242238</td>\n",
       "      <td>1.242238</td>\n",
       "      <td>0.0</td>\n",
       "    </tr>\n",
       "    <tr>\n",
       "      <th>std</th>\n",
       "      <td>0.125896</td>\n",
       "      <td>0.126590</td>\n",
       "      <td>0.126337</td>\n",
       "      <td>0.125890</td>\n",
       "      <td>0.125890</td>\n",
       "      <td>0.0</td>\n",
       "    </tr>\n",
       "    <tr>\n",
       "      <th>min</th>\n",
       "      <td>0.959619</td>\n",
       "      <td>0.967006</td>\n",
       "      <td>0.072902</td>\n",
       "      <td>0.959619</td>\n",
       "      <td>0.959619</td>\n",
       "      <td>0.0</td>\n",
       "    </tr>\n",
       "    <tr>\n",
       "      <th>25%</th>\n",
       "      <td>1.132387</td>\n",
       "      <td>1.136028</td>\n",
       "      <td>1.128910</td>\n",
       "      <td>1.132426</td>\n",
       "      <td>1.132426</td>\n",
       "      <td>0.0</td>\n",
       "    </tr>\n",
       "    <tr>\n",
       "      <th>50%</th>\n",
       "      <td>1.230800</td>\n",
       "      <td>1.235102</td>\n",
       "      <td>1.225896</td>\n",
       "      <td>1.230800</td>\n",
       "      <td>1.230800</td>\n",
       "      <td>0.0</td>\n",
       "    </tr>\n",
       "    <tr>\n",
       "      <th>75%</th>\n",
       "      <td>1.334205</td>\n",
       "      <td>1.338258</td>\n",
       "      <td>1.328568</td>\n",
       "      <td>1.334098</td>\n",
       "      <td>1.334098</td>\n",
       "      <td>0.0</td>\n",
       "    </tr>\n",
       "    <tr>\n",
       "      <th>max</th>\n",
       "      <td>1.598184</td>\n",
       "      <td>1.602821</td>\n",
       "      <td>1.587402</td>\n",
       "      <td>1.598798</td>\n",
       "      <td>1.598798</td>\n",
       "      <td>0.0</td>\n",
       "    </tr>\n",
       "  </tbody>\n",
       "</table>\n",
       "</div>"
      ],
      "text/plain": [
       "              Open         High          Low        Close    Adj Close  Volume\n",
       "count  5009.000000  5009.000000  5009.000000  5009.000000  5009.000000  5009.0\n",
       "mean      1.242227     1.246886     1.237118     1.242238     1.242238     0.0\n",
       "std       0.125896     0.126590     0.126337     0.125890     0.125890     0.0\n",
       "min       0.959619     0.967006     0.072902     0.959619     0.959619     0.0\n",
       "25%       1.132387     1.136028     1.128910     1.132426     1.132426     0.0\n",
       "50%       1.230800     1.235102     1.225896     1.230800     1.230800     0.0\n",
       "75%       1.334205     1.338258     1.328568     1.334098     1.334098     0.0\n",
       "max       1.598184     1.602821     1.587402     1.598798     1.598798     0.0"
      ]
     },
     "execution_count": 122,
     "metadata": {},
     "output_type": "execute_result"
    }
   ],
   "source": [
    "df.describe()"
   ]
  },
  {
   "cell_type": "code",
   "execution_count": 123,
   "metadata": {},
   "outputs": [
    {
     "data": {
      "text/plain": [
       "Date         0\n",
       "Open         0\n",
       "High         0\n",
       "Low          0\n",
       "Close        0\n",
       "Adj Close    0\n",
       "Volume       0\n",
       "dtype: int64"
      ]
     },
     "execution_count": 123,
     "metadata": {},
     "output_type": "execute_result"
    }
   ],
   "source": [
    "df.isnull().sum()"
   ]
  },
  {
   "cell_type": "code",
   "execution_count": null,
   "metadata": {},
   "outputs": [],
   "source": []
  }
 ],
 "metadata": {
  "kernelspec": {
   "display_name": "Python 3",
   "language": "python",
   "name": "python3"
  },
  "language_info": {
   "codemirror_mode": {
    "name": "ipython",
    "version": 3
   },
   "file_extension": ".py",
   "mimetype": "text/x-python",
   "name": "python",
   "nbconvert_exporter": "python",
   "pygments_lexer": "ipython3",
   "version": "3.9.6"
  },
  "orig_nbformat": 4
 },
 "nbformat": 4,
 "nbformat_minor": 2
}
