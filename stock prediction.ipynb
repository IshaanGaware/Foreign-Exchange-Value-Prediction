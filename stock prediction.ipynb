{
 "cells": [
  {
   "cell_type": "code",
   "execution_count": 35,
   "metadata": {},
   "outputs": [],
   "source": [
    "import numpy as np\n",
    "import pandas as pd\n",
    "import matplotlib.pyplot as plt\n",
    "import pandas_datareader as data\n",
    "import yfinance as yf"
   ]
  },
  {
   "cell_type": "code",
   "execution_count": 36,
   "metadata": {},
   "outputs": [],
   "source": [
    "ticker = \"INRJPY=X\""
   ]
  },
  {
   "cell_type": "code",
   "execution_count": 37,
   "metadata": {},
   "outputs": [
    {
     "name": "stdout",
     "output_type": "stream",
     "text": [
      "[*********************100%***********************]  1 of 1 completed\n"
     ]
    }
   ],
   "source": [
    "# set the start and end date for the historical data\n",
    "start_date = '2015-01-01'\n",
    "end_date = '2023-04-24'\n",
    "\n",
    "data = yf.download(ticker, start=start_date, end=end_date, group_by='ticker')\n",
    "\n",
    "\n",
    "# save the data to a CSV file\n",
    "data.to_csv('data.csv', index=False)"
   ]
  },
  {
   "cell_type": "code",
   "execution_count": 38,
   "metadata": {},
   "outputs": [],
   "source": [
    "df = pd.read_csv(\"data.csv\")"
   ]
  },
  {
   "cell_type": "code",
   "execution_count": 39,
   "metadata": {},
   "outputs": [
    {
     "data": {
      "text/html": [
       "<div>\n",
       "<style scoped>\n",
       "    .dataframe tbody tr th:only-of-type {\n",
       "        vertical-align: middle;\n",
       "    }\n",
       "\n",
       "    .dataframe tbody tr th {\n",
       "        vertical-align: top;\n",
       "    }\n",
       "\n",
       "    .dataframe thead th {\n",
       "        text-align: right;\n",
       "    }\n",
       "</style>\n",
       "<table border=\"1\" class=\"dataframe\">\n",
       "  <thead>\n",
       "    <tr style=\"text-align: right;\">\n",
       "      <th></th>\n",
       "      <th>Open</th>\n",
       "      <th>High</th>\n",
       "      <th>Low</th>\n",
       "      <th>Close</th>\n",
       "      <th>Adj Close</th>\n",
       "      <th>Volume</th>\n",
       "    </tr>\n",
       "  </thead>\n",
       "  <tbody>\n",
       "    <tr>\n",
       "      <th>2159</th>\n",
       "      <td>1.634321</td>\n",
       "      <td>1.640567</td>\n",
       "      <td>1.630534</td>\n",
       "      <td>1.634088</td>\n",
       "      <td>1.634088</td>\n",
       "      <td>0</td>\n",
       "    </tr>\n",
       "    <tr>\n",
       "      <th>2160</th>\n",
       "      <td>1.639417</td>\n",
       "      <td>1.642714</td>\n",
       "      <td>1.632029</td>\n",
       "      <td>1.639215</td>\n",
       "      <td>1.639215</td>\n",
       "      <td>0</td>\n",
       "    </tr>\n",
       "    <tr>\n",
       "      <th>2161</th>\n",
       "      <td>1.632264</td>\n",
       "      <td>1.642036</td>\n",
       "      <td>1.631687</td>\n",
       "      <td>1.632386</td>\n",
       "      <td>1.632386</td>\n",
       "      <td>0</td>\n",
       "    </tr>\n",
       "    <tr>\n",
       "      <th>2162</th>\n",
       "      <td>1.635807</td>\n",
       "      <td>1.640869</td>\n",
       "      <td>1.632193</td>\n",
       "      <td>1.635765</td>\n",
       "      <td>1.635765</td>\n",
       "      <td>0</td>\n",
       "    </tr>\n",
       "    <tr>\n",
       "      <th>2163</th>\n",
       "      <td>1.631584</td>\n",
       "      <td>1.638657</td>\n",
       "      <td>1.627469</td>\n",
       "      <td>1.631284</td>\n",
       "      <td>1.631284</td>\n",
       "      <td>0</td>\n",
       "    </tr>\n",
       "  </tbody>\n",
       "</table>\n",
       "</div>"
      ],
      "text/plain": [
       "          Open      High       Low     Close  Adj Close  Volume\n",
       "2159  1.634321  1.640567  1.630534  1.634088   1.634088       0\n",
       "2160  1.639417  1.642714  1.632029  1.639215   1.639215       0\n",
       "2161  1.632264  1.642036  1.631687  1.632386   1.632386       0\n",
       "2162  1.635807  1.640869  1.632193  1.635765   1.635765       0\n",
       "2163  1.631584  1.638657  1.627469  1.631284   1.631284       0"
      ]
     },
     "execution_count": 39,
     "metadata": {},
     "output_type": "execute_result"
    }
   ],
   "source": [
    "df.tail()"
   ]
  },
  {
   "cell_type": "code",
   "execution_count": 40,
   "metadata": {},
   "outputs": [
    {
     "data": {
      "text/html": [
       "<div>\n",
       "<style scoped>\n",
       "    .dataframe tbody tr th:only-of-type {\n",
       "        vertical-align: middle;\n",
       "    }\n",
       "\n",
       "    .dataframe tbody tr th {\n",
       "        vertical-align: top;\n",
       "    }\n",
       "\n",
       "    .dataframe thead th {\n",
       "        text-align: right;\n",
       "    }\n",
       "</style>\n",
       "<table border=\"1\" class=\"dataframe\">\n",
       "  <thead>\n",
       "    <tr style=\"text-align: right;\">\n",
       "      <th></th>\n",
       "      <th>Open</th>\n",
       "      <th>High</th>\n",
       "      <th>Low</th>\n",
       "      <th>Close</th>\n",
       "      <th>Adj Close</th>\n",
       "      <th>Volume</th>\n",
       "    </tr>\n",
       "  </thead>\n",
       "  <tbody>\n",
       "    <tr>\n",
       "      <th>count</th>\n",
       "      <td>2164.000000</td>\n",
       "      <td>2164.000000</td>\n",
       "      <td>2164.000000</td>\n",
       "      <td>2164.000000</td>\n",
       "      <td>2164.000000</td>\n",
       "      <td>2164.0</td>\n",
       "    </tr>\n",
       "    <tr>\n",
       "      <th>mean</th>\n",
       "      <td>1.623418</td>\n",
       "      <td>1.629807</td>\n",
       "      <td>1.616381</td>\n",
       "      <td>1.623399</td>\n",
       "      <td>1.623399</td>\n",
       "      <td>0.0</td>\n",
       "    </tr>\n",
       "    <tr>\n",
       "      <th>std</th>\n",
       "      <td>0.140786</td>\n",
       "      <td>0.141573</td>\n",
       "      <td>0.139866</td>\n",
       "      <td>0.140766</td>\n",
       "      <td>0.140766</td>\n",
       "      <td>0.0</td>\n",
       "    </tr>\n",
       "    <tr>\n",
       "      <th>min</th>\n",
       "      <td>1.389604</td>\n",
       "      <td>1.402218</td>\n",
       "      <td>1.365312</td>\n",
       "      <td>1.389683</td>\n",
       "      <td>1.389683</td>\n",
       "      <td>0.0</td>\n",
       "    </tr>\n",
       "    <tr>\n",
       "      <th>25%</th>\n",
       "      <td>1.518882</td>\n",
       "      <td>1.524943</td>\n",
       "      <td>1.512154</td>\n",
       "      <td>1.518695</td>\n",
       "      <td>1.518695</td>\n",
       "      <td>0.0</td>\n",
       "    </tr>\n",
       "    <tr>\n",
       "      <th>50%</th>\n",
       "      <td>1.604562</td>\n",
       "      <td>1.611640</td>\n",
       "      <td>1.597700</td>\n",
       "      <td>1.604484</td>\n",
       "      <td>1.604484</td>\n",
       "      <td>0.0</td>\n",
       "    </tr>\n",
       "    <tr>\n",
       "      <th>75%</th>\n",
       "      <td>1.722007</td>\n",
       "      <td>1.727400</td>\n",
       "      <td>1.713100</td>\n",
       "      <td>1.722012</td>\n",
       "      <td>1.722012</td>\n",
       "      <td>0.0</td>\n",
       "    </tr>\n",
       "    <tr>\n",
       "      <th>max</th>\n",
       "      <td>1.968000</td>\n",
       "      <td>1.972300</td>\n",
       "      <td>1.955300</td>\n",
       "      <td>1.968500</td>\n",
       "      <td>1.968500</td>\n",
       "      <td>0.0</td>\n",
       "    </tr>\n",
       "  </tbody>\n",
       "</table>\n",
       "</div>"
      ],
      "text/plain": [
       "              Open         High          Low        Close    Adj Close  Volume\n",
       "count  2164.000000  2164.000000  2164.000000  2164.000000  2164.000000  2164.0\n",
       "mean      1.623418     1.629807     1.616381     1.623399     1.623399     0.0\n",
       "std       0.140786     0.141573     0.139866     0.140766     0.140766     0.0\n",
       "min       1.389604     1.402218     1.365312     1.389683     1.389683     0.0\n",
       "25%       1.518882     1.524943     1.512154     1.518695     1.518695     0.0\n",
       "50%       1.604562     1.611640     1.597700     1.604484     1.604484     0.0\n",
       "75%       1.722007     1.727400     1.713100     1.722012     1.722012     0.0\n",
       "max       1.968000     1.972300     1.955300     1.968500     1.968500     0.0"
      ]
     },
     "execution_count": 40,
     "metadata": {},
     "output_type": "execute_result"
    }
   ],
   "source": [
    "df.describe()"
   ]
  },
  {
   "cell_type": "code",
   "execution_count": null,
   "metadata": {},
   "outputs": [],
   "source": []
  }
 ],
 "metadata": {
  "kernelspec": {
   "display_name": "Python 3",
   "language": "python",
   "name": "python3"
  },
  "language_info": {
   "codemirror_mode": {
    "name": "ipython",
    "version": 3
   },
   "file_extension": ".py",
   "mimetype": "text/x-python",
   "name": "python",
   "nbconvert_exporter": "python",
   "pygments_lexer": "ipython3",
   "version": "3.9.6"
  },
  "orig_nbformat": 4
 },
 "nbformat": 4,
 "nbformat_minor": 2
}
